{
 "cells": [
  {
   "cell_type": "code",
   "execution_count": 1,
   "metadata": {},
   "outputs": [],
   "source": [
    "'''\n",
    "Min value in circuler queue\n",
    "'''\n",
    "class CirculerQueue:\n",
    "  \n",
    "    def __init__(self, s):\n",
    "        self.size = s\n",
    "        self.elem = [None] * s\n",
    "        self.front = self.rear = -1\n",
    "\n",
    "    def enqueue(self, data):\n",
    "\n",
    "        if self.is_full():\n",
    "            print(\"The circular queue is full\\n\")\n",
    "\n",
    "        elif self.front == -1:\n",
    "            self.front = 0\n",
    "            self.rear = 0\n",
    "            self.elem[self.rear] = data\n",
    "        else:\n",
    "            self.rear = (self.rear + 1) % self.size\n",
    "            self.elem[self.rear] = data\n",
    "\n",
    "    def dequeue(self):\n",
    "        if self.is_empty():\n",
    "            print(\"The circular queue is empty\\n\")\n",
    "\n",
    "        elif self.front == self.rear:\n",
    "\n",
    "            self.front = -1\n",
    "            self.rear = -1\n",
    "        else:\n",
    "            self.front = (self.front + 1) % self.size\n",
    "    def is_empty(self):\n",
    "        return self.front== -1\n",
    "    def is_full(self):\n",
    "        return (self.rear + 1) % self.size == self.front\n",
    "    def getFront_value(self):\n",
    "        return self.elem[self.front]\n",
    "\n",
    "    def print(self):\n",
    "        if self.is_empty():\n",
    "            print(\"No element in the circular queue\")\n",
    "\n",
    "        elif (self.rear >= self.front):\n",
    "            for i in range(self.front, self.rear + 1):\n",
    "                print(self.elem[i], end=\" \")\n",
    "            print(\"\\n\")\n",
    "        else:\n",
    "            for i in range(self.front, self.size):\n",
    "                print(self.elem[i], end=\" \")\n",
    "            for i in range(0, self.rear + 1):\n",
    "                print(self.elem[i], end=\" \")\n",
    "            print(\"\\n\")"
   ]
  },
  {
   "cell_type": "code",
   "execution_count": 2,
   "metadata": {},
   "outputs": [],
   "source": [
    "q = CirculerQueue(5)"
   ]
  },
  {
   "cell_type": "code",
   "execution_count": 3,
   "metadata": {},
   "outputs": [],
   "source": [
    "q.enqueue(11)"
   ]
  },
  {
   "cell_type": "code",
   "execution_count": 4,
   "metadata": {},
   "outputs": [],
   "source": [
    "q.enqueue(10)"
   ]
  },
  {
   "cell_type": "code",
   "execution_count": 5,
   "metadata": {},
   "outputs": [],
   "source": [
    "q.enqueue(5)"
   ]
  },
  {
   "cell_type": "code",
   "execution_count": 6,
   "metadata": {},
   "outputs": [],
   "source": [
    "q.enqueue(8)"
   ]
  },
  {
   "cell_type": "code",
   "execution_count": 7,
   "metadata": {},
   "outputs": [],
   "source": [
    "q.enqueue(3)"
   ]
  },
  {
   "cell_type": "code",
   "execution_count": 8,
   "metadata": {},
   "outputs": [
    {
     "name": "stdout",
     "output_type": "stream",
     "text": [
      "11 10 5 8 3 \n",
      "\n"
     ]
    }
   ],
   "source": [
    "q.print()"
   ]
  },
  {
   "cell_type": "code",
   "execution_count": 9,
   "metadata": {},
   "outputs": [],
   "source": [
    "import copy\n",
    "def find_min(q):\n",
    "    temp = copy.copy(q)\n",
    "    while not q.is_empty():\n",
    "        x =  q.getFront_value()\n",
    "        q.dequeue()\n",
    "        while not temp.is_empty():\n",
    "            tem_x = temp.getFront_value()\n",
    "            if x > tem_x:\n",
    "                x =  tem_x\n",
    "            temp.dequeue()\n",
    "        if q.is_empty() == True:\n",
    "            return x"
   ]
  },
  {
   "cell_type": "code",
   "execution_count": 10,
   "metadata": {},
   "outputs": [
    {
     "data": {
      "text/plain": [
       "3"
      ]
     },
     "execution_count": 10,
     "metadata": {},
     "output_type": "execute_result"
    }
   ],
   "source": [
    "find_min(q)"
   ]
  },
  {
   "cell_type": "code",
   "execution_count": 1,
   "metadata": {},
   "outputs": [],
   "source": [
    "'''\n",
    "stack with queue\n",
    "'''\n",
    "from queue import Queue\n",
    "from copy import copy"
   ]
  },
  {
   "cell_type": "code",
   "execution_count": 2,
   "metadata": {},
   "outputs": [],
   "source": [
    "class stack:\n",
    "    def __init__(self):\n",
    "        self.q1 =  Queue()\n",
    "        self.q2 = Queue()\n",
    "        self.size = 0\n",
    "    def push(self, x):\n",
    "        if self.q1.empty():\n",
    "            self.q1.put(x)\n",
    "        else:\n",
    "            while not self.q1.empty():\n",
    "                self.q2.put(self.q1.get())\n",
    "            self.q1.put(x)\n",
    "            while not self.q2.empty():\n",
    "                self.q1.put(self.q2.get())\n",
    "    def pop(self):\n",
    "        elem =  self.q1.get()\n",
    "        return elem\n",
    "    def print(self):\n",
    "        temp = copy(self.q1)\n",
    "        while not temp.empty():\n",
    "            x =  temp.get()\n",
    "            print(x)\n",
    "        "
   ]
  },
  {
   "cell_type": "code",
   "execution_count": 3,
   "metadata": {},
   "outputs": [],
   "source": [
    "s = stack()\n",
    "s.push(1)\n",
    "s.push(2)\n",
    "s.push(3)\n",
    "s.push(4)\n",
    "s.push(5)\n",
    "s.push(6)\n",
    "s.push(7)\n",
    "s.push(8)"
   ]
  },
  {
   "cell_type": "code",
   "execution_count": 4,
   "metadata": {},
   "outputs": [
    {
     "data": {
      "text/plain": [
       "8"
      ]
     },
     "execution_count": 4,
     "metadata": {},
     "output_type": "execute_result"
    }
   ],
   "source": [
    "s.pop()"
   ]
  },
  {
   "cell_type": "code",
   "execution_count": 5,
   "metadata": {},
   "outputs": [
    {
     "name": "stdout",
     "output_type": "stream",
     "text": [
      "7\n",
      "6\n",
      "5\n",
      "4\n",
      "3\n",
      "2\n",
      "1\n"
     ]
    }
   ],
   "source": [
    "s.print()"
   ]
  },
  {
   "cell_type": "code",
   "execution_count": 87,
   "metadata": {},
   "outputs": [],
   "source": [
    "'''\n",
    "consecutive primes\n",
    "'''\n",
    "n = 1000000\n",
    "prime_vector = []"
   ]
  },
  {
   "cell_type": "code",
   "execution_count": 88,
   "metadata": {},
   "outputs": [],
   "source": [
    "import sympy\n",
    "def consecutive_primes(vector, n):\n",
    "    count = 0\n",
    "    prime_sums = []\n",
    "    for i in range(1, n + 1):\n",
    "        if sympy.isprime(i) is True:\n",
    "            vector.append(i)\n",
    "    consecutive_sum = 0\n",
    "    for i in range(1, len(vector)):\n",
    "            consecutive_sum +=  vector[i]\n",
    "            if consecutive_sum >= n:\n",
    "                break\n",
    "            if sympy.isprime(consecutive_sum) is True:\n",
    "                count = count + 1\n",
    "                prime_sums.append(consecutive_sum)\n",
    "            \n",
    "    return count, prime_sums"
   ]
  },
  {
   "cell_type": "code",
   "execution_count": 89,
   "metadata": {},
   "outputs": [
    {
     "name": "stdout",
     "output_type": "stream",
     "text": [
      "920291\n"
     ]
    }
   ],
   "source": [
    "_, primes = consecutive_primes(prime_vector,n)\n",
    "print(max(primes))"
   ]
  },
  {
   "cell_type": "code",
   "execution_count": 118,
   "metadata": {},
   "outputs": [],
   "source": [
    "'''\n",
    "truncatable primes\n",
    "'''\n",
    "import sympy\n",
    "trunc_primes = []    "
   ]
  },
  {
   "cell_type": "code",
   "execution_count": 120,
   "metadata": {},
   "outputs": [],
   "source": [
    "def trunc_right(n):\n",
    "    if n > 10:\n",
    "        for i in range(len(str(n))):\n",
    "            if not sympy.isprime(int(n)):\n",
    "                return False\n",
    "            n = str(n)[:-1]\n",
    "        return True\n",
    "    else:\n",
    "        return False"
   ]
  },
  {
   "cell_type": "code",
   "execution_count": 122,
   "metadata": {},
   "outputs": [],
   "source": [
    "def trunc_left(n):\n",
    "    if n >10:\n",
    "        for i in range(len(str(n))):\n",
    "            if not sympy.isprime(int(n)):\n",
    "                return False\n",
    "            n = str(n)[1:]\n",
    "        return True\n",
    "    else:\n",
    "        return False"
   ]
  },
  {
   "cell_type": "code",
   "execution_count": 124,
   "metadata": {},
   "outputs": [],
   "source": [
    "number = 0\n",
    "while len(trunc_primes) != 11:\n",
    "    if trunc_left(number) and trunc_right(number) and sympy.isprime(number):\n",
    "        trunc_primes.append(number)\n",
    "    number =  number + 1\n",
    "    "
   ]
  },
  {
   "cell_type": "code",
   "execution_count": 125,
   "metadata": {},
   "outputs": [
    {
     "data": {
      "text/plain": [
       "[23, 37, 53, 73, 313, 317, 373, 797, 3137, 3797, 739397]"
      ]
     },
     "execution_count": 125,
     "metadata": {},
     "output_type": "execute_result"
    }
   ],
   "source": [
    "trunc_primes"
   ]
  },
  {
   "cell_type": "code",
   "execution_count": 126,
   "metadata": {},
   "outputs": [
    {
     "data": {
      "text/plain": [
       "748317"
      ]
     },
     "execution_count": 126,
     "metadata": {},
     "output_type": "execute_result"
    }
   ],
   "source": [
    "sum(trunc_primes)"
   ]
  },
  {
   "cell_type": "code",
   "execution_count": 132,
   "metadata": {},
   "outputs": [],
   "source": [
    "'''\n",
    "Circuler prime\n",
    "'''\n",
    "import sympy\n",
    "def rotation(n):\n",
    "    count = 0\n",
    "    \n",
    "    for i in range( len( str(n) ) ):\n",
    "        m = int( str(n)[i:] + str(n)[:i] )\n",
    "        if sympy.isprime(m):\n",
    "            count = count + 1\n",
    "        if count == len(str(n)):\n",
    "            return True\n",
    "        \n",
    "    return False"
   ]
  },
  {
   "cell_type": "code",
   "execution_count": 142,
   "metadata": {},
   "outputs": [],
   "source": [
    "count = 0 \n",
    "circuler_prime = set()\n",
    "for i in range(2, 1000000):\n",
    "    if sympy.isprime(i) is True:\n",
    "        count =  count + 1\n",
    "        circuler_prime.add(i)"
   ]
  },
  {
   "cell_type": "code",
   "execution_count": 143,
   "metadata": {},
   "outputs": [
    {
     "name": "stdout",
     "output_type": "stream",
     "text": [
      "circler prime under one million: 78498\n"
     ]
    }
   ],
   "source": [
    "print('circler prime under one million:', count)"
   ]
  },
  {
   "cell_type": "code",
   "execution_count": null,
   "metadata": {},
   "outputs": [],
   "source": []
  }
 ],
 "metadata": {
  "kernelspec": {
   "display_name": "Python 3",
   "language": "python",
   "name": "python3"
  },
  "language_info": {
   "codemirror_mode": {
    "name": "ipython",
    "version": 3
   },
   "file_extension": ".py",
   "mimetype": "text/x-python",
   "name": "python",
   "nbconvert_exporter": "python",
   "pygments_lexer": "ipython3",
   "version": "3.8.3"
  }
 },
 "nbformat": 4,
 "nbformat_minor": 4
}
